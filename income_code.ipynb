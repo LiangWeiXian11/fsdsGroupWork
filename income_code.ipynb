{
 "cells": [
  {
   "cell_type": "code",
   "execution_count": 7,
   "id": "895268a2-0597-4ab3-8752-e1bbd3248d71",
   "metadata": {},
   "outputs": [
    {
     "name": "stdout",
     "output_type": "stream",
     "text": [
      "head of the result:\n",
      "      id  model_output\n",
      "0  13913    1458.62137\n",
      "1  15400        1209.6\n",
      "2  92644   2606.853699\n",
      "3  17402  10140.756164\n",
      "4  93015    372.821918\n",
      "5  93734   2151.983342\n",
      "6  24328             0\n",
      "7  93783   3114.692384\n",
      "8  25123             0\n",
      "9  94138             0\n",
      "save result to ./reslut6.csv\n"
     ]
    }
   ],
   "source": [
    "import numpy as np\n",
    "import pandas as pd\n",
    "# load dataset\n",
    "data = pd.read_csv('./listings.csv',low_memory=False)\n",
    "# our model\n",
    "review_rate = 0.5\n",
    "average_days = 3\n",
    "# select data that availability_365 > 0\n",
    "data_geq_0 = data[data.availability_365 > 0]\n",
    "\n",
    "result = pd.DataFrame(columns=['id','model_output'],index=data.index)\n",
    "result['id'] = data.id\n",
    "# if availability_365 = 0\n",
    "result.loc[data.availability_365 == 0,'model_output'] = 0\n",
    "# else use our model\n",
    "result.loc[data.availability_365 > 0,'model_output'] = (data_geq_0.reviews_per_month/review_rate * average_days * 12) / 365 * data_geq_0.availability_365 * data_geq_0.price\n",
    "print('head of the result:')\n",
    "print(result.head(10))\n",
    "# save result\n",
    "result.to_csv('./reslut6.csv',index=False)\n",
    "print('save result to ./reslut6.csv')"
   ]
  },
  {
   "cell_type": "code",
   "execution_count": null,
   "id": "698e14b9-d273-4e2b-826c-9832457a344c",
   "metadata": {},
   "outputs": [],
   "source": []
  }
 ],
 "metadata": {
  "kernelspec": {
   "display_name": "Python 3 (ipykernel)",
   "language": "python",
   "name": "python3"
  },
  "language_info": {
   "codemirror_mode": {
    "name": "ipython",
    "version": 3
   },
   "file_extension": ".py",
   "mimetype": "text/x-python",
   "name": "python",
   "nbconvert_exporter": "python",
   "pygments_lexer": "ipython3",
   "version": "3.11.5"
  }
 },
 "nbformat": 4,
 "nbformat_minor": 5
}
